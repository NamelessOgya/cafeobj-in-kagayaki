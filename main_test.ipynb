{
 "cells": [
  {
   "cell_type": "code",
   "execution_count": 1,
   "id": "8413790b-338c-4833-b826-135c8f29b495",
   "metadata": {
    "scrolled": true
   },
   "outputs": [
    {
     "name": "stdout",
     "output_type": "stream",
     "text": [
      "20241006_15:39:24\n"
     ]
    },
    {
     "name": "stderr",
     "output_type": "stream",
     "text": [
      "\u001b[34m\u001b[1mwandb\u001b[0m: Using wandb-core as the SDK backend. Please refer to https://wandb.me/wandb-core for more information.\n",
      "\u001b[34m\u001b[1mwandb\u001b[0m: Currently logged in as: \u001b[33mdata_science_nichika\u001b[0m. Use \u001b[1m`wandb login --relogin`\u001b[0m to force relogin\n",
      "\u001b[34m\u001b[1mwandb\u001b[0m: \u001b[33mWARNING\u001b[0m If you're specifying your api key in code, ensure this code is not shared publicly.\n",
      "\u001b[34m\u001b[1mwandb\u001b[0m: \u001b[33mWARNING\u001b[0m Consider setting the WANDB_API_KEY environment variable, or running `wandb login` from the command line.\n",
      "\u001b[34m\u001b[1mwandb\u001b[0m: Appending key for api.wandb.ai to your netrc file: /home/s2430014/.netrc\n"
     ]
    },
    {
     "name": "stdout",
     "output_type": "stream",
     "text": [
      "8\n",
      "128\n"
     ]
    }
   ],
   "source": [
    "from main import main"
   ]
  },
  {
   "cell_type": "code",
   "execution_count": 2,
   "id": "fe82a5e4-a8f9-4463-a7e5-76c90547b30e",
   "metadata": {
    "scrolled": true
   },
   "outputs": [],
   "source": [
    "# from custom_policy import CustomPolicy, PolicyMapper"
   ]
  },
  {
   "cell_type": "code",
   "execution_count": 3,
   "id": "43dc0116-b54c-45ad-97b7-855c0edd048b",
   "metadata": {},
   "outputs": [],
   "source": [
    "# from selfplay_callback import SelfPlayCallback, agent_to_module_mapping_fn"
   ]
  },
  {
   "cell_type": "code",
   "execution_count": null,
   "id": "5ba1b478-d665-4f18-9276-26721ee25f79",
   "metadata": {
    "scrolled": true
   },
   "outputs": [
    {
     "name": "stdout",
     "output_type": "stream",
     "text": [
      "do main\n"
     ]
    },
    {
     "name": "stderr",
     "output_type": "stream",
     "text": [
      "2024-10-06 15:39:42,992\tINFO worker.py:1786 -- Started a local Ray instance.\n",
      "/home/s2430014/.local/lib/python3.10/site-packages/gymnasium/spaces/box.py:130: UserWarning: \u001b[33mWARN: Box bound precision lowered by casting to float32\u001b[0m\n",
      "  gym.logger.warn(f\"Box bound precision lowered by casting to {self.dtype}\")\n",
      "/home/s2430014/.local/lib/python3.10/site-packages/gymnasium/utils/passive_env_checker.py:164: UserWarning: \u001b[33mWARN: The obs returned by the `reset()` method was expecting numpy array dtype to be float32, actual type: float64\u001b[0m\n",
      "  logger.warn(\n",
      "/home/s2430014/.local/lib/python3.10/site-packages/gymnasium/utils/passive_env_checker.py:188: UserWarning: \u001b[33mWARN: The obs returned by the `reset()` method is not within the observation space.\u001b[0m\n",
      "  logger.warn(f\"{pre} is not within the observation space.\")\n",
      "2024-10-06 15:39:44,079\tWARNING deprecation.py:50 -- DeprecationWarning: `rollouts` has been deprecated. Use `AlgorithmConfig.env_runners(..)` instead. This will raise an error in the future!\n",
      "2024-10-06 15:39:44,080\tWARNING deprecation.py:50 -- DeprecationWarning: `AlgorithmConfig.env_runners(num_rollout_workers)` has been deprecated. Use `AlgorithmConfig.env_runners(num_env_runners)` instead. This will raise an error in the future!\n",
      "2024-10-06 15:39:44,081\tWARNING deprecation.py:50 -- DeprecationWarning: `AlgorithmConfig.env_runners(num_envs_per_worker)` has been deprecated. Use `AlgorithmConfig.env_runners(num_envs_per_env_runner)` instead. This will raise an error in the future!\n",
      "2024-10-06 15:39:44,086\tINFO tune.py:616 -- [output] This uses the legacy output and progress reporter, as Jupyter notebooks are not supported by the new engine, yet. For more information, please see https://github.com/ray-project/ray/issues/36949\n"
     ]
    },
    {
     "data": {
      "text/html": [
       "<div class=\"tuneStatus\">\n",
       "  <div style=\"display: flex;flex-direction: row\">\n",
       "    <div style=\"display: flex;flex-direction: column;\">\n",
       "      <h3>Tune Status</h3>\n",
       "      <table>\n",
       "<tbody>\n",
       "<tr><td>Current time:</td><td>2024-10-06 15:40:29</td></tr>\n",
       "<tr><td>Running for: </td><td>00:00:45.56        </td></tr>\n",
       "<tr><td>Memory:      </td><td>502.0/503.2 GiB    </td></tr>\n",
       "</tbody>\n",
       "</table>\n",
       "    </div>\n",
       "    <div class=\"vDivider\"></div>\n",
       "    <div class=\"systemInfo\">\n",
       "      <h3>System Info</h3>\n",
       "      Using FIFO scheduling algorithm.<br>Logical resource usage: 52.0/52 CPUs, 1.0/1 GPUs (0.0/1.0 accelerator_type:A40)\n",
       "    </div>\n",
       "    <div class=\"vDivider\"></div>\n",
       "<div class=\"messages\">\n",
       "  <h3>Messages</h3>\n",
       "  : ***LOW MEMORY*** less than 10% of the memory on this node is available for use. This can cause unexpected crashes. Consider reducing the memory used by your application or reducing the Ray object store size by setting `object_store_memory` when calling `ray.init`.\n",
       "  \n",
       "  \n",
       "</div>\n",
       "<style>\n",
       ".messages {\n",
       "  color: var(--jp-ui-font-color1);\n",
       "  display: flex;\n",
       "  flex-direction: column;\n",
       "  padding-left: 1em;\n",
       "  overflow-y: auto;\n",
       "}\n",
       ".messages h3 {\n",
       "  font-weight: bold;\n",
       "}\n",
       ".vDivider {\n",
       "  border-left-width: var(--jp-border-width);\n",
       "  border-left-color: var(--jp-border-color0);\n",
       "  border-left-style: solid;\n",
       "  margin: 0.5em 1em 0.5em 1em;\n",
       "}\n",
       "</style>\n",
       "\n",
       "  </div>\n",
       "  <div class=\"hDivider\"></div>\n",
       "  <div class=\"trialStatus\">\n",
       "    <h3>Trial Status</h3>\n",
       "    <table>\n",
       "<thead>\n",
       "<tr><th>Trial name                     </th><th>status  </th><th>loc                   </th></tr>\n",
       "</thead>\n",
       "<tbody>\n",
       "<tr><td>IMPALA_pvp_cartpole_c5af9_00000</td><td>RUNNING </td><td>150.65.183.107:3480396</td></tr>\n",
       "</tbody>\n",
       "</table>\n",
       "  </div>\n",
       "</div>\n",
       "<style>\n",
       ".tuneStatus {\n",
       "  color: var(--jp-ui-font-color1);\n",
       "}\n",
       ".tuneStatus .systemInfo {\n",
       "  display: flex;\n",
       "  flex-direction: column;\n",
       "}\n",
       ".tuneStatus td {\n",
       "  white-space: nowrap;\n",
       "}\n",
       ".tuneStatus .trialStatus {\n",
       "  display: flex;\n",
       "  flex-direction: column;\n",
       "}\n",
       ".tuneStatus h3 {\n",
       "  font-weight: bold;\n",
       "}\n",
       ".tuneStatus .hDivider {\n",
       "  border-bottom-width: var(--jp-border-width);\n",
       "  border-bottom-color: var(--jp-border-color0);\n",
       "  border-bottom-style: solid;\n",
       "}\n",
       ".tuneStatus .vDivider {\n",
       "  border-left-width: var(--jp-border-width);\n",
       "  border-left-color: var(--jp-border-color0);\n",
       "  border-left-style: solid;\n",
       "  margin: 0.5em 1em 0.5em 1em;\n",
       "}\n",
       "</style>\n"
      ],
      "text/plain": [
       "<IPython.core.display.HTML object>"
      ]
     },
     "metadata": {},
     "output_type": "display_data"
    },
    {
     "name": "stderr",
     "output_type": "stream",
     "text": [
      "2024-10-06 15:39:44,176\tINFO wandb.py:319 -- Already logged into W&B.\n"
     ]
    }
   ],
   "source": [
    "main()"
   ]
  },
  {
   "cell_type": "code",
   "execution_count": 5,
   "id": "de97396d-4f97-4514-b83c-09278e388609",
   "metadata": {},
   "outputs": [
    {
     "name": "stdout",
     "output_type": "stream",
     "text": [
      " README.md\t   main_test.ipynb\t start_interactive_gpu_node.sh\n",
      " __pycache__\t   make_new_sif_env.sh\t'start_notebook_server copy.sh'\n",
      " callback\t   requirements.txt\t start_notebook_server.sh\n",
      " config\t\t  'run(dummy).sh'\t test-モデル精度確認用.ipynb\n",
      " log\t\t   run.sh\t\t tests\n",
      "'main copy 2.py'   singularity\t\t tmp\n",
      "'main copy.py'\t   src\t\t\t training_config.yaml\n",
      " main.py\t   start_batch_job.sh\n"
     ]
    }
   ],
   "source": [
    "!ls"
   ]
  },
  {
   "cell_type": "code",
   "execution_count": 4,
   "id": "2dba17a0-6b19-4275-81eb-f1dbe71c2507",
   "metadata": {},
   "outputs": [],
   "source": [
    "for i in range(1, 1):\n",
    "    print(\"h\")"
   ]
  },
  {
   "cell_type": "code",
   "execution_count": 4,
   "id": "c80a977f-8c80-439e-9d42-227156a3ae97",
   "metadata": {},
   "outputs": [],
   "source": [
    "def get_action_and_observation_space():\n",
    "    ge = gym.make('CartPole-v1')\n",
    "    action_space = ge.action_space\n",
    "    observation_space = Box(\n",
    "        high=np.concatenate([ge.observation_space.high, [np.float32(1.0)], [np.float32(1.0)]]),\n",
    "        low=np.concatenate([ge.observation_space.low, [np.float32(-1.0)], [np.float32(-1.0)]]),\n",
    "        shape=(6,),\n",
    "        dtype=np.float32\n",
    "    )\n",
    "\n",
    "    return action_space, observation_space"
   ]
  },
  {
   "cell_type": "code",
   "execution_count": 9,
   "id": "e48cf7f9-d787-4ae7-8f4b-888a14bec81c",
   "metadata": {},
   "outputs": [],
   "source": [
    "import gymnasium as gym\n",
    "from gymnasium.spaces import Discrete, MultiDiscrete, Box, Dict\n",
    "import numpy as np\n",
    "a, o = get_action_and_observation_space()"
   ]
  },
  {
   "cell_type": "code",
   "execution_count": 10,
   "id": "e4eb2fff-42fe-4561-a5fc-bbad7abc01a4",
   "metadata": {},
   "outputs": [
    {
     "data": {
      "text/plain": [
       "Discrete(2)"
      ]
     },
     "execution_count": 10,
     "metadata": {},
     "output_type": "execute_result"
    }
   ],
   "source": [
    "a"
   ]
  },
  {
   "cell_type": "code",
   "execution_count": 11,
   "id": "b32df652-8cd6-4a3a-b53e-76331584e178",
   "metadata": {},
   "outputs": [
    {
     "data": {
      "text/plain": [
       "Discrete(2)"
      ]
     },
     "execution_count": 11,
     "metadata": {},
     "output_type": "execute_result"
    }
   ],
   "source": [
    "Discrete(2)"
   ]
  },
  {
   "cell_type": "code",
   "execution_count": 13,
   "id": "785c29f8-61c5-4077-9c1e-db4db9f10aa7",
   "metadata": {},
   "outputs": [
    {
     "data": {
      "text/plain": [
       "Box([-4.8000002e+00 -3.4028235e+38 -4.1887903e-01 -3.4028235e+38\n",
       " -1.0000000e+00 -1.0000000e+00], [4.8000002e+00 3.4028235e+38 4.1887903e-01 3.4028235e+38 1.0000000e+00\n",
       " 1.0000000e+00], (6,), float32)"
      ]
     },
     "execution_count": 13,
     "metadata": {},
     "output_type": "execute_result"
    }
   ],
   "source": [
    "o"
   ]
  },
  {
   "cell_type": "code",
   "execution_count": 15,
   "id": "4a2b0c12-ae72-4501-93fe-1f7ba58b790c",
   "metadata": {},
   "outputs": [
    {
     "ename": "SyntaxError",
     "evalue": "invalid syntax. Perhaps you forgot a comma? (3453086853.py, line 4)",
     "output_type": "error",
     "traceback": [
      "\u001b[0;36m  File \u001b[0;32m/tmp/ipykernel_649586/3453086853.py:4\u001b[0;36m\u001b[0m\n\u001b[0;31m    [4.8000002e+00 3.4028235e+38 4.1887903e-01 3.4028235e+38 1.0000000e+00\u001b[0m\n\u001b[0m     ^\u001b[0m\n\u001b[0;31mSyntaxError\u001b[0m\u001b[0;31m:\u001b[0m invalid syntax. Perhaps you forgot a comma?\n"
     ]
    }
   ],
   "source": [
    "Box(\n",
    "    [-4.8000002e+00, -3.4028235e+38, -4.1887903e-01, -3.4028235e+38,\n",
    " -1.0000000e+00, -1.0000000e+00], \n",
    "    [4.8000002e+00, 3.4028235e+38 ,4.1887903e-01, 3.4028235e+38, 1.0000000e+00,z\n",
    "\n",
    " 1.0000000e+00]\n",
    ")"
   ]
  },
  {
   "cell_type": "code",
   "execution_count": 1,
   "id": "89eef003-5952-46c3-9053-18be28723cac",
   "metadata": {},
   "outputs": [
    {
     "name": "stdout",
     "output_type": "stream",
     "text": [
      "Name: gymnasium\n",
      "Version: 0.28.1\n",
      "Summary: A standard API for reinforcement learning and a diverse set of reference environments (formerly Gym).\n",
      "Home-page: https://farama.org\n",
      "Author: \n",
      "Author-email: Farama Foundation <contact@farama.org>\n",
      "License: MIT License\n",
      "Location: /home/s2430014/.local/lib/python3.10/site-packages\n",
      "Requires: cloudpickle, farama-notifications, jax-jumpy, numpy, typing-extensions\n",
      "Required-by: pettingzoo\n"
     ]
    }
   ],
   "source": [
    "!pip show gymnasium"
   ]
  },
  {
   "cell_type": "code",
   "execution_count": null,
   "id": "77cb85ac-511e-4575-9235-ef14ad9abe33",
   "metadata": {},
   "outputs": [],
   "source": []
  }
 ],
 "metadata": {
  "kernelspec": {
   "display_name": "Python 3 (ipykernel)",
   "language": "python",
   "name": "python3"
  },
  "language_info": {
   "codemirror_mode": {
    "name": "ipython",
    "version": 3
   },
   "file_extension": ".py",
   "mimetype": "text/x-python",
   "name": "python",
   "nbconvert_exporter": "python",
   "pygments_lexer": "ipython3",
   "version": "3.10.13"
  }
 },
 "nbformat": 4,
 "nbformat_minor": 5
}
