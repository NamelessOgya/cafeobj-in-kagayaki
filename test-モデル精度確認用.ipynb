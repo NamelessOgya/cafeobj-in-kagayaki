{
 "cells": [
  {
   "cell_type": "code",
   "execution_count": 3,
   "id": "8372e535-4d31-4558-b40b-907fa6766571",
   "metadata": {},
   "outputs": [],
   "source": [
    "import gymnasium as gym\n",
    "import functools\n",
    "import random\n",
    "from copy import copy, deepcopy\n",
    "\n",
    "import numpy as np\n",
    "from gymnasium.spaces import Discrete, MultiDiscrete, Box, Dict\n",
    "\n",
    "from pettingzoo import ParallelEnv\n",
    "\n",
    "\n",
    "## torch学習部分\n",
    "from ray.rllib.models import ModelCatalog\n",
    "from ray.rllib.models.torch.torch_modelv2 import TorchModelV2\n",
    "import torch\n",
    "from torch import nn\n",
    "\n",
    "\n",
    "## ray部分\n",
    "import ray\n",
    "from ray.rllib.algorithms.impala import ImpalaConfig, Impala\n",
    "from ray import air\n",
    "from ray import tune\n",
    "\n",
    "from ray.air.integrations.wandb import WandbLoggerCallback\n",
    "from ray.rllib.algorithms.callbacks import DefaultCallbacks\n",
    "from ray.tune.logger import CSVLoggerCallback\n",
    "from ray.tune.registry import register_env, get_trainable_cls\n",
    "from ray.rllib.env.wrappers.pettingzoo_env import ParallelPettingZooEnv\n",
    "from ray.rllib.policy.policy import Policy"
   ]
  },
  {
   "cell_type": "code",
   "execution_count": 4,
   "id": "c5c3ce23-8adc-4634-9284-7323317b603a",
   "metadata": {},
   "outputs": [],
   "source": [
    "PROJ_NAME = \"test_PvP_cartpole_zero_cum_rew\"\n",
    "\n",
    "# 実行設定\n",
    "# IS_COLAB = True\n",
    "USE_WANDB = True\n",
    "NUM_GPUS = 1 if torch.cuda.is_available() else 0\n",
    "CHECKPOINT_DIR = \"/home/s2430014/research/pvp-cartpole/log\"\n",
    "\n",
    "# ディレクトリ関係\n",
    "COMMON_CONFIG_PATH = \"/home/s2430014/research/common_config.ini\"\n",
    "CALLBACK_PATH = \"/home/s2430014/research/pvp-cartpole/callback\"\n",
    "MODEL_SAVE_FREQ = 100\n",
    "\n",
    "# 環境関連\n",
    "BASE_ALIVE_TIME= 25\n",
    "\n",
    "# モデル関連\n",
    "HIDDEN_DIM = 128\n",
    "HIDDEN_DEPTH = 8\n",
    "TRAINING_ITER = 500\n",
    "LR = 1e-3\n",
    "\n",
    "# self-play関連\n",
    "WIN_RATE_THRESHOLD = 0.58\n",
    "ALGO = \"IMPALA\" #???\n",
    "FRAMEWORK = \"torch\" #???\n",
    "NUM_ENV_RUNNERS = 2\n",
    "STOP_TIMESTEPS = 2000\n",
    "STOP_ITERS = 10000000\n",
    "\n",
    "# INITIAL_EPSILON = 1.0\n",
    "# FINAL_EPSILON = 0.1\n",
    "\n",
    "#モデルを訓練するかどうか\n",
    "TRAIN = True"
   ]
  },
  {
   "cell_type": "code",
   "execution_count": 5,
   "id": "1e818a48-d976-4009-a33d-9ebc70db2591",
   "metadata": {},
   "outputs": [
    {
     "name": "stdout",
     "output_type": "stream",
     "text": [
      "20241005_12:05:18\n"
     ]
    }
   ],
   "source": [
    "# 時間情報を取得\n",
    "from datetime import datetime, timezone, timedelta\n",
    "from zoneinfo import ZoneInfo\n",
    "\n",
    "now = datetime.now(ZoneInfo(\"Asia/Tokyo\"))\n",
    "time_code = now.strftime(\"%Y%m%d_%H:%M:%S\")\n",
    "print(time_code)\n",
    "\n",
    "# wandbにlogin\n",
    "import configparser\n",
    "\n",
    "config_ini = configparser.ConfigParser()\n",
    "config_ini.read(COMMON_CONFIG_PATH, encoding='utf-8')\n",
    "api_key = config_ini['WANDB']['api_key']"
   ]
  },
  {
   "cell_type": "code",
   "execution_count": 32,
   "id": "9e83dc31-b09e-4994-a55b-58166e3eb2c9",
   "metadata": {},
   "outputs": [],
   "source": [
    "class CustomTorchModel(TorchModelV2, nn.Module):\n",
    "    def __init__(self, obs_space, action_space, num_outputs, model_config, name):\n",
    "        TorchModelV2.__init__(self, obs_space, action_space, num_outputs, model_config, name)\n",
    "        nn.Module.__init__(self)\n",
    "\n",
    "        # print(f'num_outputs = {num_outputs}')\n",
    "        # assert num_outputs == 2, f'Assertion failed: num_outputs must be 2 but num_outputs={num_outputs}'\n",
    "        self.num_outputs = num_outputs\n",
    "        self._num_objects = obs_space.shape[0]\n",
    "        self._num_actions = num_outputs\n",
    "\n",
    "        self.hidden_depth = HIDDEN_DEPTH\n",
    "\n",
    "        layers = [nn.Linear(self._num_objects, HIDDEN_DIM), nn.ReLU()]\n",
    "        for i in range(HIDDEN_DEPTH):\n",
    "            layers.append(nn.Linear(HIDDEN_DIM, HIDDEN_DIM))\n",
    "            layers.append(nn.ReLU())\n",
    "        self.layers = nn.Sequential(*layers)\n",
    "\n",
    "        # value function\n",
    "        self.vf_head = nn.Linear(HIDDEN_DIM, 1)\n",
    "\n",
    "        # action logits（ソフトマックスは適用しない）\n",
    "        self.ac_head = nn.Linear(HIDDEN_DIM, num_outputs)\n",
    "\n",
    "    def forward(self, input_dict, state, seq_lens):\n",
    "        x = input_dict[\"obs\"]\n",
    "        # assert not isinstance(x, collections.OrderedDict) , f'input is orderdict {x}'\n",
    "        x = self.layers(x)\n",
    "        logits = self.ac_head(x)\n",
    "        self.value_out = self.vf_head(x)\n",
    "        return logits, []\n",
    "\n",
    "    def value_function(self):\n",
    "        return torch.reshape(self.value_out, (-1,))\n"
   ]
  },
  {
   "cell_type": "code",
   "execution_count": 91,
   "id": "95d50fed-2efe-4a2d-b670-5ed9353fc5f1",
   "metadata": {},
   "outputs": [],
   "source": [
    "checkpoint_dir = \"main_v380.pt\""
   ]
  },
  {
   "cell_type": "code",
   "execution_count": 92,
   "id": "a4c1d959-4346-4afe-ac61-4cd110a1cb24",
   "metadata": {},
   "outputs": [],
   "source": [
    "env = gym.make('CartPole-v1')"
   ]
  },
  {
   "cell_type": "code",
   "execution_count": 93,
   "id": "1d029729-9f24-4217-975a-c4dca95f0861",
   "metadata": {},
   "outputs": [],
   "source": [
    "ge = gym.make('CartPole-v1')\n",
    "action_space = ge.action_space\n",
    "observation_space = Box(\n",
    "            high = np.concatenate([ge.observation_space.high, [1.0], [1.0]]),\n",
    "            low = np.concatenate([ge.observation_space.low, [0.0], [0.0]]),\n",
    "            shape = (6,),\n",
    "            dtype = np.float32\n",
    ")"
   ]
  },
  {
   "cell_type": "code",
   "execution_count": 94,
   "id": "df250dc1-eee1-4eb4-85b9-8c032890abf9",
   "metadata": {},
   "outputs": [],
   "source": [
    "def load_model(checkpoint_path):\n",
    "    model = CustomTorchModel(\n",
    "        obs_space = observation_space,\n",
    "        action_space = action_space,\n",
    "        num_outputs = 2,\n",
    "        model_config = {},\n",
    "        name = \"temp\"\n",
    "    )\n",
    "    model.load_state_dict(torch.load(checkpoint_dir))\n",
    "    model.eval()  # 評価モードに設定\n",
    "    return model"
   ]
  },
  {
   "cell_type": "code",
   "execution_count": 95,
   "id": "1e86aad3-86cc-4abc-9a67-d6a6b784472b",
   "metadata": {},
   "outputs": [],
   "source": [
    "m = load_model(checkpoint_dir)"
   ]
  },
  {
   "cell_type": "code",
   "execution_count": 96,
   "id": "aedf90ca-b22d-44a7-ba42-2fdfc471c3f1",
   "metadata": {},
   "outputs": [],
   "source": [
    "def select_action(model, obs, role):\n",
    "    # observationにroleを追加する部分はselect actionで吸収\n",
    "    obs = np.concatenate([obs, [role, 1]]) # 次が自分のターンであることを表す1\n",
    "\n",
    "    with torch.no_grad():\n",
    "\n",
    "        obs_tensor = torch.tensor(obs, dtype=torch.float32)\n",
    "        input_dict = {\"obs\": obs_tensor}\n",
    "        action = model(input_dict, None, None)\n",
    "        return torch.argmax(action[0]).item()"
   ]
  },
  {
   "cell_type": "code",
   "execution_count": 100,
   "id": "28b66cc9-e478-4e03-9428-d1c72c856223",
   "metadata": {},
   "outputs": [],
   "source": [
    "m = load_model(checkpoint_dir)\n",
    "\n",
    "def experiment(role):\n",
    "  li = []\n",
    "  action_list = []\n",
    "  for j in range(100):\n",
    "    obs, info = env.reset()\n",
    "\n",
    "    act_cnt  = 0\n",
    "    for i in range(50):\n",
    "\n",
    "      res = select_action(m, obs, role)\n",
    "      action_list.append(res)\n",
    "        \n",
    "      obs, v, terminated, _, _ = env.step(res)\n",
    "      act_cnt += 1\n",
    "      if terminated:\n",
    "        break\n",
    "    li.append(act_cnt)\n",
    "  return li, action_list\n",
    "\n",
    "\n",
    "def random_experiment():\n",
    "  li = []\n",
    "  action_list = []\n",
    "  for j in range(100):\n",
    "    obs, info = env.reset()\n",
    "\n",
    "    act_cnt  = 0\n",
    "    for i in range(50):\n",
    "      rng = np.random.default_rng()\n",
    "\n",
    "      res = np.argmax(rng.random(2))\n",
    "      action_list.append(res)\n",
    "        \n",
    "      obs, v, terminated, _, _ = env.step(res)\n",
    "      act_cnt += 1\n",
    "      if terminated:\n",
    "        break\n",
    "    li.append(act_cnt)\n",
    "  return li, action_list\n",
    "\n",
    "def all1_experiment():\n",
    "  li = []\n",
    "  action_list = []\n",
    "  \n",
    "  for j in range(100):\n",
    "    obs, info = env.reset()\n",
    "\n",
    "    act_cnt  = 0\n",
    "    for i in range(50):\n",
    "      res = 1\n",
    "      obs, v, terminated, _, _ = env.step(res)\n",
    "      action_list.append(res)\n",
    "      act_cnt += 1\n",
    "      if terminated:\n",
    "        break\n",
    "    li.append(act_cnt)\n",
    "  return li, action_list"
   ]
  },
  {
   "cell_type": "code",
   "execution_count": 101,
   "id": "8ad323fc-bd5f-4a81-86cd-840488ce27ec",
   "metadata": {},
   "outputs": [],
   "source": [
    "li_0, a0 = experiment(0)\n",
    "li_1, a1 = experiment(1)\n",
    "li_r, ar = random_experiment()\n",
    "li_all1, aall1 = all1_experiment()"
   ]
  },
  {
   "cell_type": "code",
   "execution_count": 107,
   "id": "42aaafc7-e2e8-4682-b4da-b5fa4773c9d0",
   "metadata": {},
   "outputs": [
    {
     "name": "stdout",
     "output_type": "stream",
     "text": [
      "act as stabilizer..... mean game len 44.62\n",
      "act as disturber...... mean game len 10.05\n",
      "act randomly.......... mean game len 23.97\n",
      "choose 1 every time... mean game len 10.05\n"
     ]
    }
   ],
   "source": [
    "print(f\"act as stabilizer..... mean game len {np.array(li_0).mean()}\")\n",
    "print(f\"act as disturber...... mean game len {np.array(li_1).mean()}\")\n",
    "print(f\"act randomly.......... mean game len {np.array(li_r).mean()}\")\n",
    "print(f\"choose 1 every time... mean game len {np.array(li_1).mean()}\")"
   ]
  }
 ],
 "metadata": {
  "kernelspec": {
   "display_name": "Python 3 (ipykernel)",
   "language": "python",
   "name": "python3"
  },
  "language_info": {
   "codemirror_mode": {
    "name": "ipython",
    "version": 3
   },
   "file_extension": ".py",
   "mimetype": "text/x-python",
   "name": "python",
   "nbconvert_exporter": "python",
   "pygments_lexer": "ipython3",
   "version": "3.10.13"
  }
 },
 "nbformat": 4,
 "nbformat_minor": 5
}
